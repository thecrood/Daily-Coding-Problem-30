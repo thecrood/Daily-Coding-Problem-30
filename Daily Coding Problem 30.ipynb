{
 "cells": [
  {
   "cell_type": "markdown",
   "id": "666117ab",
   "metadata": {},
   "source": [
    "# Daily Coding Problem 30"
   ]
  },
  {
   "cell_type": "raw",
   "id": "e0ac8d9e",
   "metadata": {},
   "source": [
    "This problem was asked by Facebook.\n",
    "\n",
    "You are given an array of non-negative integers that represents a two-dimensional elevation map where each element is unit-width wall and the integer is the height. Suppose it will rain and all spots between two walls get filled up.\n",
    "\n",
    "Compute how many units of water remain trapped on the map in O(N) time and O(1) space.\n",
    "\n",
    "For example, given the input [2, 1, 2], we can hold 1 unit of water in the middle.\n",
    "\n",
    "Given the input [3, 0, 1, 3, 0, 5], we can hold 3 units in the first index, 2 in the second, and 3 in the fourth index (we cannot hold 5 since it would run off to the left), so we can trap 8 units of water."
   ]
  },
  {
   "cell_type": "markdown",
   "id": "2a5de2bd",
   "metadata": {},
   "source": [
    "# Solution\n",
    "\n",
    "Notice that the amount of water that can be filled up at a certain index i is the smaller of the largest height to the left and the largest height to the right minus the actual value at that point, because it will be trapped by the smaller of the two sides. So what we can do is to create two arrays that represent the running maximum heights, one from the left and one from the right. Then to count the total capacity, we can run through the both arrays and add up the smaller of the two arrays at that index.\n"
   ]
  },
  {
   "cell_type": "code",
   "execution_count": 4,
   "id": "a1cb76de",
   "metadata": {},
   "outputs": [],
   "source": [
    "def capacity(arr):\n",
    "    n = len(arr)\n",
    "    left_maxes = [0 for _ in range(n)]\n",
    "    right_maxes = [0 for _ in range(n)]\n",
    "\n",
    "    current_left_max = 0\n",
    "    for i in range(n):\n",
    "        current_left_max = max(current_left_max, arr[i])\n",
    "        left_maxes[i] = current_left_max\n",
    "\n",
    "    current_right_max = 0\n",
    "    for i in range(n - 1, -1, -1):\n",
    "        current_right_max = max(current_right_max, arr[i])\n",
    "        right_maxes[i] = current_right_max\n",
    "\n",
    "    total = 0\n",
    "    for i in range(n):\n",
    "        total += min(left_maxes[i], right_maxes[i]) - arr[i]\n",
    "    return total"
   ]
  },
  {
   "cell_type": "markdown",
   "id": "2d3d1d0b",
   "metadata": {},
   "source": [
    "This is O(N) time, but also O(N) space, and we want constant space. So instead, we can do this. We can find the largest element in the array, and then when we're looking on the left of it, we only need to keep the running total to the left (since we know the largest element on the array is on the right). And then do a similar thing, but starting from the right side. So the general gist is this:\n",
    "\n",
    " * Find the maximum element in the array -- let's say it's at index i\n",
    " * Initialize a running maximum on the left to arr[0]\n",
    " * Iterate from index 1 to i. At each step, update the running maximum if necessary and then increment a variable    counter with the running maximum minus the value at that array.\n",
    " * Do the same thing but from len(arr) - 2 to i backwards, and keep the running maximum on the right."
   ]
  },
  {
   "cell_type": "code",
   "execution_count": 5,
   "id": "8f875d31",
   "metadata": {},
   "outputs": [
    {
     "name": "stdout",
     "output_type": "stream",
     "text": [
      "8\n"
     ]
    }
   ],
   "source": [
    "def capacity(arr):\n",
    "    if not arr:\n",
    "        return 0\n",
    "\n",
    "    total = 0\n",
    "    max_i = arr.index(max(arr))\n",
    "\n",
    "    left_max = arr[0]\n",
    "    for num in arr[1:max_i]:\n",
    "        total += left_max - num\n",
    "        left_max = max(left_max, num)\n",
    "\n",
    "    right_max = arr[-1]\n",
    "    for num in arr[-2:max_i:-1]:\n",
    "        total += right_max - num\n",
    "        right_max = max(right_max, num)\n",
    "\n",
    "    return total\n",
    "print(capacity([3, 0, 1, 3, 0, 5]))"
   ]
  },
  {
   "cell_type": "code",
   "execution_count": null,
   "id": "ecd6dc2c",
   "metadata": {},
   "outputs": [],
   "source": []
  }
 ],
 "metadata": {
  "kernelspec": {
   "display_name": "Python 3 (ipykernel)",
   "language": "python",
   "name": "python3"
  },
  "language_info": {
   "codemirror_mode": {
    "name": "ipython",
    "version": 3
   },
   "file_extension": ".py",
   "mimetype": "text/x-python",
   "name": "python",
   "nbconvert_exporter": "python",
   "pygments_lexer": "ipython3",
   "version": "3.8.10"
  }
 },
 "nbformat": 4,
 "nbformat_minor": 5
}
